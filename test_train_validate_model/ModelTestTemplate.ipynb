{
 "cells": [
  {
   "cell_type": "code",
   "execution_count": 56,
   "metadata": {
    "collapsed": false
   },
   "outputs": [],
   "source": [
    "from sklearn.ensemble import RandomForestRegressor, GradientBoostingRegressor\n",
    "from sklearn.linear_model  import LinearRegression, Lasso, Ridge\n",
    "from sklearn.neighbors import NearestNeighbors\n",
    "from pyearth import Earth "
   ]
  },
  {
   "cell_type": "code",
   "execution_count": null,
   "metadata": {
    "collapsed": true
   },
   "outputs": [],
   "source": [
    "from RemoveRealtorTestModel import RemoveRealtorTestModel"
   ]
  },
  {
   "cell_type": "code",
   "execution_count": null,
   "metadata": {
    "collapsed": true
   },
   "outputs": [],
   "source": [
    "rrtm = RemoveRealtorTestModel()\n",
    "dftest, dftest_y,  dfhold, dfhold_y =rrtm.get_data()"
   ]
  },
  {
   "cell_type": "code",
   "execution_count": null,
   "metadata": {
    "collapsed": true
   },
   "outputs": [],
   "source": [
    "for mod in model0:\n",
    "    print ''.join(['-']*80)\n",
    "    print mod.set_params"
   ]
  },
  {
   "cell_type": "code",
   "execution_count": null,
   "metadata": {
    "collapsed": false
   },
   "outputs": [],
   "source": [
    "mars0 = Earth()\n",
    "rf0 = RandomForestRegressor()\n",
    "abr0 = AdaBoostRegressor()\n",
    "gbr0 = GradientBoostingRegressor()\n",
    "lr0 = LinearRegression()\n",
    "lrl10 = Lasso()z\n",
    "lrl20 = Ridge()\n",
    "model0 = [mars0,rf0,abr0,gbr0,gbr0,lr0,lrl10,lrl20]"
   ]
  },
  {
   "cell_type": "code",
   "execution_count": null,
   "metadata": {
    "collapsed": true
   },
   "outputs": [],
   "source": [
    "alpha = [0.1,0.3,0.6,0.8]\n",
    "lass =[]\n",
    "ridg = []\n",
    "for a in alpha:\n",
    "    lass.append(Lasso(alpha=a))\n",
    "    ridg.append(Ridge(alpha=a))"
   ]
  },
  {
   "cell_type": "code",
   "execution_count": null,
   "metadata": {
    "collapsed": false
   },
   "outputs": [],
   "source": [
    "max_depth  = [4, 8, 10]\n",
    "n_estimators = [100, 1000, 2000]\n",
    "rfs = []\n",
    "for md in max_depth:\n",
    "    for est in n_estimators:\n",
    "        rfs.append(RandomForestRegressor(n_estimators=est, max_depth=md))"
   ]
  },
  {
   "cell_type": "code",
   "execution_count": null,
   "metadata": {
    "collapsed": true
   },
   "outputs": [],
   "source": [
    "n_estimators = [50, 100, 1000]\n",
    "learning_rate = [1.0, 0.5, 0.1]\n",
    "loss = ['linear', 'square', 'exponential']\n",
    "adb = []\n",
    "for l in loss:\n",
    "    for est, lr in (n_estimators, learning_rate):\n",
    "        adb.append(AdaBoostRegressor(n_estimators=est, loss=l))"
   ]
  },
  {
   "cell_type": "code",
   "execution_count": null,
   "metadata": {
    "collapsed": false
   },
   "outputs": [],
   "source": [
    "n_estimators = [50, 100, 1000]\n",
    "learning_rate = [1.0, 0.5, 0.1]\n",
    "loss = ['ls', 'lad', 'huber', 'quantile']\n",
    "gbr = []\n",
    "for l in loss:\n",
    "    for est, lr in (n_estimators, learning_rate):\n",
    "        gbr.append(GradientBoostingRegressor(n_estimators=est, loss=l))"
   ]
  },
  {
   "cell_type": "code",
   "execution_count": null,
   "metadata": {
    "collapsed": false
   },
   "outputs": [],
   "source": [
    "allcolumnes = dftest.columns\n",
    "col_compst = [col for col in allcolumnes if ('comp_' in col) & ('180' in col) & ('tract' in col)]\n",
    "col_compst_mean= [col for col in col_compst if ('mean' in col)]\n",
    "col_compst_median= [col for col in col_compst if ('median' in col)]\n",
    "col_compst_max= [col for col in col_compst if ('max' in col)]\n",
    "col_compst_min= [col for col in col_compst if ('min' in col)]\n",
    "col_compst_std = [col for col in col_compst if ('std' in col)]\n",
    "#'-------------------------------------------------------'#\n",
    "col_compsbg = [col for col in allcolumnes if ('comp_' in col) & ('180' in col) & ('blockgroup' in col)]\n",
    "col_compsbg_mean = [col for col in col_compsbg if ('mean' in col)]\n",
    "col_compsbg_median = [col for col in col_compsbg if ('median' in col)]\n",
    "col_compsbg_max = [col for col in col_compsbg if ('max' in col)]\n",
    "col_compsbg_max = [col for col in col_compsbg if ('min' in col)]\n",
    "col_compsbg_std = [col for col in col_compsbg if ('std' in col)]\n",
    "#'-------------------------------------------------------'#\n",
    "col_with_comps= ['closeprice','daytocontract', 'taxes',\n",
    "    'yearbuilt', 'approxlotsqft','livingarea', 'numbedrooms',\n",
    "    'numbaths', 'exteriorstories', 'ttlmthlyfeeequiv']\n",
    "#'-------------------------------------------------------'#\n",
    "col_compst_onmarket = [col for col in allcolumnes if ('180' in col) &\n",
    "    ('on_market_' in col) &  ('tract' in col)]\n",
    "#'-------------------------------------------------------'#\n",
    "col_compsbg_onmarket = [col for col in allcolumnes if ('180' in col) &\n",
    "    ('on_market_' in col) &  ('blockgroup' in col)]\n",
    "#'-------------------------------------------------------'#\n",
    "col_dummies = [col for col in allcolumnes if ('dvar' in col)]\n",
    "#'-------------------------------------------------------'#\n",
    "col_with_school= ['school_distance_from', 'school_total_exam_score']\n",
    "#'-------------------------------------------------------'#\n",
    "col_census_data= ['block_group_poptotal','block_group_income_per_capita',\n",
    "    'block_group_median_household_income']\n",
    "#'-------------------------------------------------------'#\n",
    "col_yelp_data= [col for col in allcolumnes if ('yelp' in col)]"
   ]
  },
  {
   "cell_type": "code",
   "execution_count": null,
   "metadata": {
    "collapsed": true
   },
   "outputs": [],
   "source": [
    "smaller_index = (np.random.rand(dftest.shape[0]) < percent_train)\n",
    "dftest_frac, dftest_y_fract = dftest[smaller_index], smaller_index_y[smaller_index]"
   ]
  },
  {
   "cell_type": "code",
   "execution_count": null,
   "metadata": {
    "collapsed": true
   },
   "outputs": [],
   "source": [
    "for fs in features_to_test:\n",
    "    for fr in feature_representations:    \n",
    "        for mods in models_to_test:\n",
    "            for c in components:\n",
    "                \n",
    "\n",
    "    \n",
    "    "
   ]
  }
 ],
 "metadata": {
  "kernelspec": {
   "display_name": "Python 2",
   "language": "python",
   "name": "python2"
  },
  "language_info": {
   "codemirror_mode": {
    "name": "ipython",
    "version": 2
   },
   "file_extension": ".py",
   "mimetype": "text/x-python",
   "name": "python",
   "nbconvert_exporter": "python",
   "pygments_lexer": "ipython2",
   "version": "2.7.10"
  }
 },
 "nbformat": 4,
 "nbformat_minor": 0
}
